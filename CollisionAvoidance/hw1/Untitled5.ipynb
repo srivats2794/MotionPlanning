{
 "cells": [
  {
   "cell_type": "code",
   "execution_count": null,
   "metadata": {},
   "outputs": [
    {
     "name": "stdout",
     "output_type": "stream",
     "text": [
      "\n",
      "Simulation of Agents on a 2D plane.\n",
      "Green Arrow is Goal Velocity, Red Arrow is Current Velocity\n",
      "SPACE to pause, 'S' to step frame-by-frame, 'V' to turn the velocity display on/off.\n",
      "\n"
     ]
    },
    {
     "name": "stderr",
     "output_type": "stream",
     "text": [
      "agent.py:62: RuntimeWarning: invalid value encountered in multiply\n",
      "  eta_ab1= self.pos+self.vel*tau-i.pos-i.vel*tau\n",
      "Exception in Tkinter callback\n",
      "Traceback (most recent call last):\n",
      "  File \"C:\\Users\\srivats\\AppData\\Local\\Continuum\\anaconda2\\lib\\lib-tk\\Tkinter.py\", line 1541, in __call__\n",
      "    return self.func(*args)\n",
      "  File \"C:\\Users\\srivats\\AppData\\Local\\Continuum\\anaconda2\\lib\\lib-tk\\Tkinter.py\", line 592, in callit\n",
      "    func(*args)\n",
      "  File \"simulator.py\", line 177, in <lambda>\n",
      "    win.after(framedelay, lambda: drawFrame(dt))\n",
      "  File \"simulator.py\", line 147, in drawFrame\n",
      "    drawWorld()\n",
      "  File \"simulator.py\", line 81, in drawWorld\n",
      "    canvas.coords(circles[i],world_scale*(agent.pos[0]- agent.radius - world_xmin), world_scale*(agent.pos[1] - agent.radius - world_ymin), world_scale*(agent.pos[0] + agent.radius - world_xmin), world_scale*(agent.pos[1] + agent.radius - world_ymin))\n",
      "  File \"C:\\Users\\srivats\\AppData\\Local\\Continuum\\anaconda2\\lib\\lib-tk\\Tkinter.py\", line 2299, in coords\n",
      "    self.tk.call((self._w, 'coords') + args)))\n",
      "ValueError: could not convert string to float: floating\n"
     ]
    }
   ],
   "source": [
    "import simulator"
   ]
  },
  {
   "cell_type": "code",
   "execution_count": null,
   "metadata": {
    "collapsed": true
   },
   "outputs": [],
   "source": []
  }
 ],
 "metadata": {
  "kernelspec": {
   "display_name": "Python 2",
   "language": "python",
   "name": "python2"
  },
  "language_info": {
   "codemirror_mode": {
    "name": "ipython",
    "version": 2
   },
   "file_extension": ".py",
   "mimetype": "text/x-python",
   "name": "python",
   "nbconvert_exporter": "python",
   "pygments_lexer": "ipython2",
   "version": "2.7.14"
  }
 },
 "nbformat": 4,
 "nbformat_minor": 2
}
