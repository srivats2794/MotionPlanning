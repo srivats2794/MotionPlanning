{
 "cells": [
  {
   "cell_type": "code",
   "execution_count": 1,
   "metadata": {},
   "outputs": [
    {
     "name": "stdout",
     "output_type": "stream",
     "text": [
      "\n",
      "Simulation of Agents on a 2D plane.\n",
      "Green Arrow is Goal Velocity, Red Arrow is Current Velocity\n",
      "SPACE to pause, 'S' to step frame-by-frame, 'V' to turn the velocity display on/off.\n",
      "\n"
     ]
    },
    {
     "name": "stderr",
     "output_type": "stream",
     "text": [
      "agent.py:63: RuntimeWarning: invalid value encountered in multiply\n",
      "  n_ab = (self.pos + self.vel*tau - x.pos - x.vel*tau)/np.linalg.norm(self.pos + self.vel*tau - x.pos - x.vel*tau)\n",
      "agent.py:63: RuntimeWarning: invalid value encountered in subtract\n",
      "  n_ab = (self.pos + self.vel*tau - x.pos - x.vel*tau)/np.linalg.norm(self.pos + self.vel*tau - x.pos - x.vel*tau)\n",
      "agent.py:63: RuntimeWarning: invalid value encountered in divide\n",
      "  n_ab = (self.pos + self.vel*tau - x.pos - x.vel*tau)/np.linalg.norm(self.pos + self.vel*tau - x.pos - x.vel*tau)\n"
     ]
    },
    {
     "name": "stdout",
     "output_type": "stream",
     "text": [
      "355 itterations ran ... quitting\n"
     ]
    }
   ],
   "source": [
    "import simulator"
   ]
  },
  {
   "cell_type": "code",
   "execution_count": null,
   "metadata": {
    "collapsed": true
   },
   "outputs": [],
   "source": []
  }
 ],
 "metadata": {
  "kernelspec": {
   "display_name": "Python 2",
   "language": "python",
   "name": "python2"
  },
  "language_info": {
   "codemirror_mode": {
    "name": "ipython",
    "version": 2
   },
   "file_extension": ".py",
   "mimetype": "text/x-python",
   "name": "python",
   "nbconvert_exporter": "python",
   "pygments_lexer": "ipython2",
   "version": "2.7.14"
  }
 },
 "nbformat": 4,
 "nbformat_minor": 2
}
